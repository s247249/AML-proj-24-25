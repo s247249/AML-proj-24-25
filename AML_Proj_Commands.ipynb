{
  "nbformat": 4,
  "nbformat_minor": 0,
  "metadata": {
    "colab": {
      "provenance": [],
      "gpuType": "T4"
    },
    "kernelspec": {
      "name": "python3",
      "display_name": "Python 3"
    },
    "language_info": {
      "name": "python"
    },
    "accelerator": "GPU"
  },
  "cells": [
    {
      "cell_type": "markdown",
      "source": [
        "# Get the entire code from GitHub"
      ],
      "metadata": {
        "id": "lxnfCkIJWaQB"
      }
    },
    {
      "cell_type": "code",
      "source": [
        "%%capture\n",
        "! apt-get install git\n",
        "! git clone -b Ermes https://github.com/s247249/AML-proj-24-25.git"
      ],
      "metadata": {
        "id": "wBnIEXICWVkx"
      },
      "execution_count": 1,
      "outputs": []
    },
    {
      "cell_type": "markdown",
      "source": [
        "# Download datasets and save them in 'data' directory"
      ],
      "metadata": {
        "id": "P21uzEU_ZLRi"
      }
    },
    {
      "cell_type": "code",
      "source": [
        "import os\n",
        "os.chdir(\"/content/AML-proj-24-25\")"
      ],
      "metadata": {
        "id": "AopxsGmLpVt7"
      },
      "execution_count": 2,
      "outputs": []
    },
    {
      "cell_type": "code",
      "source": [
        "%%capture\n",
        "! pip install -r requirements.txt\n",
        "! mkdir data\n",
        "! mkdir zipped\n",
        "! mkdir encoders"
      ],
      "metadata": {
        "id": "YIEn1oO7Ni8b"
      },
      "execution_count": 3,
      "outputs": []
    },
    {
      "cell_type": "code",
      "source": [
        "import gdown\n",
        "\n",
        "# dtd\n",
        "url_1 = 'https://drive.google.com/file/d/1TFaNfJ9VRG-Sm7PZbykCOZN1UVvg3_xZ/view?usp=drive_link'\n",
        "output_path_1 = 'zipped/dtd.zip'\n",
        "\n",
        "# eurosat\n",
        "url_2 = 'https://drive.google.com/file/d/1orSmoOxgaV7uBBm_zWbZXRsGgoCqG8rI/view?usp=drive_link'\n",
        "output_path_2 = 'zipped/eurosat.zip'\n",
        "\n",
        "# gtsrb\n",
        "url_3 = 'https://drive.google.com/file/d/18EuCwNk84tXpAD8341iDi6vcPstDAm6b/view?usp=drive_link'\n",
        "output_path_3 = 'zipped/gtsrb.zip'\n",
        "\n",
        "# mnist\n",
        "url_4 = 'https://drive.google.com/file/d/1sLb03nHj9pu18PoQadu951cxdvc3Jz-c/view?usp=drive_link'\n",
        "output_path_4 = 'zipped/mnist.zip'\n",
        "\n",
        "# resisc\n",
        "url_5 = 'https://drive.google.com/file/d/16jNDxK0ZiG_pSpjpfcodfoGnOluKQUeL/view?usp=drive_link'\n",
        "output_path_5 = 'zipped/resisc.zip'\n",
        "\n",
        "# svhn\n",
        "url_6 = 'https://drive.google.com/file/d/1dVUfZZ0QwPoMLaDzpSyv5J1I2SRgABk5/view?usp=drive_link'\n",
        "output_path_6 = 'zipped/svhn.zip'\n",
        "\n",
        "gdown.download(url_1, output_path_1, quiet=False,fuzzy=True)\n",
        "gdown.download(url_2, output_path_2, quiet=False,fuzzy=True)\n",
        "gdown.download(url_3, output_path_3, quiet=False,fuzzy=True)\n",
        "gdown.download(url_4, output_path_4, quiet=False,fuzzy=True)\n",
        "gdown.download(url_5, output_path_5, quiet=False,fuzzy=True)\n",
        "gdown.download(url_6, output_path_6, quiet=False,fuzzy=True)\n"
      ],
      "metadata": {
        "id": "3-en2qwGW-zp",
        "colab": {
          "base_uri": "https://localhost:8080/",
          "height": 553
        },
        "outputId": "a995aef4-b554-4532-e66b-c3d71182dff6"
      },
      "execution_count": 4,
      "outputs": [
        {
          "output_type": "stream",
          "name": "stderr",
          "text": [
            "Downloading...\n",
            "From (original): https://drive.google.com/uc?id=1TFaNfJ9VRG-Sm7PZbykCOZN1UVvg3_xZ\n",
            "From (redirected): https://drive.google.com/uc?id=1TFaNfJ9VRG-Sm7PZbykCOZN1UVvg3_xZ&confirm=t&uuid=ddc5e0e2-3076-4b1b-bec4-21468cd138ab\n",
            "To: /content/AML-proj-24-25/zipped/dtd.zip\n",
            "100%|██████████| 1.43G/1.43G [00:27<00:00, 52.1MB/s]\n",
            "Downloading...\n",
            "From (original): https://drive.google.com/uc?id=1orSmoOxgaV7uBBm_zWbZXRsGgoCqG8rI\n",
            "From (redirected): https://drive.google.com/uc?id=1orSmoOxgaV7uBBm_zWbZXRsGgoCqG8rI&confirm=t&uuid=e0dfe312-54dd-4ff0-9e62-681a6d08e2a0\n",
            "To: /content/AML-proj-24-25/zipped/eurosat.zip\n",
            "100%|██████████| 95.1M/95.1M [00:01<00:00, 54.6MB/s]\n",
            "Downloading...\n",
            "From (original): https://drive.google.com/uc?id=18EuCwNk84tXpAD8341iDi6vcPstDAm6b\n",
            "From (redirected): https://drive.google.com/uc?id=18EuCwNk84tXpAD8341iDi6vcPstDAm6b&confirm=t&uuid=e1c2e58d-e22c-464a-be12-cc13fc313224\n",
            "To: /content/AML-proj-24-25/zipped/gtsrb.zip\n",
            "100%|██████████| 279M/279M [00:07<00:00, 35.1MB/s]\n",
            "Downloading...\n",
            "From: https://drive.google.com/uc?id=1sLb03nHj9pu18PoQadu951cxdvc3Jz-c\n",
            "To: /content/AML-proj-24-25/zipped/mnist.zip\n",
            "100%|██████████| 23.2M/23.2M [00:00<00:00, 26.5MB/s]\n",
            "Downloading...\n",
            "From (original): https://drive.google.com/uc?id=16jNDxK0ZiG_pSpjpfcodfoGnOluKQUeL\n",
            "From (redirected): https://drive.google.com/uc?id=16jNDxK0ZiG_pSpjpfcodfoGnOluKQUeL&confirm=t&uuid=a7ee1627-6cbb-4f1e-871f-1cb7efdd365b\n",
            "To: /content/AML-proj-24-25/zipped/resisc.zip\n",
            "100%|██████████| 428M/428M [00:05<00:00, 73.9MB/s]\n",
            "Downloading...\n",
            "From (original): https://drive.google.com/uc?id=1dVUfZZ0QwPoMLaDzpSyv5J1I2SRgABk5\n",
            "From (redirected): https://drive.google.com/uc?id=1dVUfZZ0QwPoMLaDzpSyv5J1I2SRgABk5&confirm=t&uuid=9106ff43-99bc-40a7-ab83-8e905465105b\n",
            "To: /content/AML-proj-24-25/zipped/svhn.zip\n",
            "100%|██████████| 246M/246M [00:03<00:00, 68.9MB/s]\n"
          ]
        },
        {
          "output_type": "execute_result",
          "data": {
            "text/plain": [
              "'zipped/svhn.zip'"
            ],
            "application/vnd.google.colaboratory.intrinsic+json": {
              "type": "string"
            }
          },
          "metadata": {},
          "execution_count": 4
        }
      ]
    },
    {
      "cell_type": "code",
      "source": [
        "%%capture\n",
        "! unzip zipped/dtd.zip -d data/\n",
        "! unzip zipped/eurosat.zip -d data/\n",
        "! unzip zipped/gtsrb.zip -d data/\n",
        "! unzip zipped/mnist.zip -d data/\n",
        "! unzip zipped/resisc.zip -d data/\n",
        "! unzip zipped/svhn.zip -d data/"
      ],
      "metadata": {
        "id": "suQP6lWmNuZy"
      },
      "execution_count": 5,
      "outputs": []
    },
    {
      "cell_type": "markdown",
      "source": [
        "# Download encoder checkpoints from drive"
      ],
      "metadata": {
        "id": "dXW-jTcXz6Jc"
      }
    },
    {
      "cell_type": "code",
      "source": [
        "# DTD\n",
        "encoder_url_1 = 'https://drive.google.com/file/d/1zpGGGVFEAdn1p1QPK5QbpbfNdt3JxzHX/view?usp=sharing'\n",
        "encoder_output_url_1 = 'encoders/DTD_finetuned.pt'\n",
        "\n",
        "# EuroSAT\n",
        "encoder_url_2 = 'https://drive.google.com/file/d/1H_NWCsohLTyjFebF0njCJVznzKsbD5aG/view?usp=sharing'\n",
        "encoder_output_url_2 = 'encoders/EuroSAT_finetuned.pt'\n",
        "\n",
        "# GTSRB\n",
        "encoder_url_3 = 'https://drive.google.com/file/d/1IXBPshQGmhagSNs9JOUag177nmlesZ6H/view?usp=drive_link'\n",
        "encoder_output_url_3 = 'encoders/GTSRB_finetuned.pt'\n",
        "\n",
        "# MNIST\n",
        "encoder_url_4 = 'https://drive.google.com/file/d/12IV7ZJ7nUWmSKWl6OifvG3YiR4sWO-6x/view?usp=sharing'\n",
        "encoder_output_url_4 = 'encoders/MNIST_finetuned.pt'\n",
        "\n",
        "\n",
        "# RESISC45\n",
        "encoder_url_5 = 'https://drive.google.com/file/d/1m9XgdIjqiVFuyNPefYeIz9ViWRgMCato/view?usp=sharing'\n",
        "encoder_output_url_5 = 'encoders/RESISC45_finetuned.pt'\n",
        "\n",
        "# SVHN\n",
        "encoder_url_6 = 'https://drive.google.com/file/d/1VgHfgWNf02pVDBfEho3h5FWaVihmmWwG/view?usp=sharing'\n",
        "encoder_output_url_6 = 'encoders/SVHN_finetuned.pt'\n",
        "\n",
        "\n",
        "gdown.download(encoder_url_1, encoder_output_url_1, quiet=False,fuzzy=True)\n",
        "gdown.download(encoder_url_2, encoder_output_url_2, quiet=False,fuzzy=True)\n",
        "gdown.download(encoder_url_3, encoder_output_url_3, quiet=False,fuzzy=True)\n",
        "gdown.download(encoder_url_4, encoder_output_url_4, quiet=False,fuzzy=True)\n",
        "gdown.download(encoder_url_5, encoder_output_url_5, quiet=False,fuzzy=True)\n",
        "gdown.download(encoder_url_6, encoder_output_url_6, quiet=False,fuzzy=True)"
      ],
      "metadata": {
        "colab": {
          "base_uri": "https://localhost:8080/",
          "height": 571
        },
        "id": "iGgSmCrSu5-p",
        "outputId": "6c064847-c439-4dc3-970a-008487af3f56"
      },
      "execution_count": 6,
      "outputs": [
        {
          "output_type": "stream",
          "name": "stderr",
          "text": [
            "Downloading...\n",
            "From (original): https://drive.google.com/uc?id=1zpGGGVFEAdn1p1QPK5QbpbfNdt3JxzHX\n",
            "From (redirected): https://drive.google.com/uc?id=1zpGGGVFEAdn1p1QPK5QbpbfNdt3JxzHX&confirm=t&uuid=8c0f7c39-f1d4-4ee0-a9c9-44a84383e587\n",
            "To: /content/AML-proj-24-25/encoders/DTD_finetuned.pt\n",
            "100%|██████████| 454M/454M [00:09<00:00, 46.2MB/s]\n",
            "Downloading...\n",
            "From (original): https://drive.google.com/uc?id=1H_NWCsohLTyjFebF0njCJVznzKsbD5aG\n",
            "From (redirected): https://drive.google.com/uc?id=1H_NWCsohLTyjFebF0njCJVznzKsbD5aG&confirm=t&uuid=afd2f841-953c-4e4c-bb39-78dcbb795f3b\n",
            "To: /content/AML-proj-24-25/encoders/EuroSAT_finetuned.pt\n",
            "100%|██████████| 454M/454M [00:09<00:00, 49.3MB/s]\n",
            "Downloading...\n",
            "From (original): https://drive.google.com/uc?id=1IXBPshQGmhagSNs9JOUag177nmlesZ6H\n",
            "From (redirected): https://drive.google.com/uc?id=1IXBPshQGmhagSNs9JOUag177nmlesZ6H&confirm=t&uuid=b887c705-d07b-478e-b193-1a151c3041a2\n",
            "To: /content/AML-proj-24-25/encoders/GTSRB_finetuned.pt\n",
            "100%|██████████| 454M/454M [00:07<00:00, 60.8MB/s]\n",
            "Downloading...\n",
            "From (original): https://drive.google.com/uc?id=12IV7ZJ7nUWmSKWl6OifvG3YiR4sWO-6x\n",
            "From (redirected): https://drive.google.com/uc?id=12IV7ZJ7nUWmSKWl6OifvG3YiR4sWO-6x&confirm=t&uuid=57131d9c-1bed-46d8-bda6-401a1bee22f6\n",
            "To: /content/AML-proj-24-25/encoders/MNIST_finetuned.pt\n",
            "100%|██████████| 454M/454M [00:09<00:00, 48.9MB/s]\n",
            "Downloading...\n",
            "From (original): https://drive.google.com/uc?id=1m9XgdIjqiVFuyNPefYeIz9ViWRgMCato\n",
            "From (redirected): https://drive.google.com/uc?id=1m9XgdIjqiVFuyNPefYeIz9ViWRgMCato&confirm=t&uuid=2cf222fb-a06d-423d-9804-1100f0e9c61a\n",
            "To: /content/AML-proj-24-25/encoders/RESISC45_finetuned.pt\n",
            "100%|██████████| 454M/454M [00:07<00:00, 61.2MB/s]\n",
            "Downloading...\n",
            "From (original): https://drive.google.com/uc?id=1VgHfgWNf02pVDBfEho3h5FWaVihmmWwG\n",
            "From (redirected): https://drive.google.com/uc?id=1VgHfgWNf02pVDBfEho3h5FWaVihmmWwG&confirm=t&uuid=0bd9022e-b47b-42d7-8b9e-67e8ba37e202\n",
            "To: /content/AML-proj-24-25/encoders/SVHN_finetuned.pt\n",
            "100%|██████████| 454M/454M [00:06<00:00, 68.1MB/s]\n"
          ]
        },
        {
          "output_type": "execute_result",
          "data": {
            "text/plain": [
              "'encoders/SVHN_finetuned.pt'"
            ],
            "application/vnd.google.colaboratory.intrinsic+json": {
              "type": "string"
            }
          },
          "metadata": {},
          "execution_count": 6
        }
      ]
    },
    {
      "cell_type": "code",
      "source": [
        "import sys\n",
        "sys.path.insert(1, '/content/AML-proj-24-25')"
      ],
      "metadata": {
        "id": "S7-IDpzOqbpl"
      },
      "execution_count": 7,
      "outputs": []
    },
    {
      "cell_type": "markdown",
      "source": [
        "# Finetuning Command"
      ],
      "metadata": {
        "id": "gE8DshqE0WYy"
      }
    },
    {
      "cell_type": "code",
      "source": [
        "! python finetune.py \\\n",
        "--data-location=/content/AML-proj-24-25/data/ \\\n",
        "--save=/content/AML-proj-24-25/heads/ \\\n",
        "--batch-size=32 \\\n",
        "--lr=1e-4 \\\n",
        "--wd=0.0 \\\n",
        "--train-dataset=DTD,EuroSAT"
      ],
      "metadata": {
        "colab": {
          "base_uri": "https://localhost:8080/"
        },
        "id": "9_aO8jycrm3c",
        "outputId": "ef0ee7aa-6b65-454e-dcda-a1ea3a2ebc3b"
      },
      "execution_count": null,
      "outputs": [
        {
          "output_type": "stream",
          "name": "stdout",
          "text": [
            "Loading ViT-B-32 pre-trained weights.\n",
            "/usr/local/lib/python3.11/dist-packages/open_clip/factory.py:380: UserWarning: These pretrained weights were trained with QuickGELU activation but the model config does not have that enabled. Consider using a model config with a \"-quickgelu\" suffix or enable with a flag.\n",
            "  warnings.warn(\n",
            "Classification head for ViT-B-32 on EuroSATVal exists at /content/AML-proj-24-25/heads/head_EuroSATVal.pt\n",
            "Loading classification head from /content/AML-proj-24-25/heads/head_EuroSATVal.pt\n",
            "/content/AML-proj-24-25/utils.py:22: FutureWarning: You are using `torch.load` with `weights_only=False` (the current default value), which uses the default pickle module implicitly. It is possible to construct malicious pickle data which will execute arbitrary code during unpickling (See https://github.com/pytorch/pytorch/blob/main/SECURITY.md#untrusted-models for more details). In a future release, the default value for `weights_only` will be flipped to `True`. This limits the functions that could be executed during unpickling. Arbitrary objects will no longer be allowed to be loaded via this mode unless they are explicitly allowlisted by the user via `torch.serialization.add_safe_globals`. We recommend you start setting `weights_only=True` for any use case where you don't have full control of the loaded file. Please open an issue on GitHub for any issues related to this experimental feature.\n",
            "  model = torch.load(save_path, map_location=\"cpu\")\n",
            "Saving image encoder to /content/AML-proj-24-25/encoders/EuroSAT_zeroshot.pt\n",
            "Traceback (most recent call last):\n",
            "  File \"/content/AML-proj-24-25/finetune.py\", line 55, in <module>\n",
            "    fine_tune_model(model, train_loader, val_loader, epochs[chosen_dataset], optimizer, loss_fn, device)\n",
            "  File \"/content/AML-proj-24-25/utils.py\", line 146, in fine_tune_model\n",
            "    running_loss += loss.item()\n",
            "                    ^^^^^^^^^^^\n",
            "KeyboardInterrupt\n"
          ]
        }
      ]
    },
    {
      "cell_type": "markdown",
      "source": [
        "# Evaluation Command"
      ],
      "metadata": {
        "id": "nUgmeriI0b5G"
      }
    },
    {
      "cell_type": "code",
      "source": [
        "! python eval_single_task.py \\\n",
        "--data-location=/content/AML-proj-24-25/data/ \\\n",
        "--save=/content/AML-proj-24-25/heads/ \\\n",
        "--eval-datasets=DTD,EuroSAT"
      ],
      "metadata": {
        "colab": {
          "base_uri": "https://localhost:8080/"
        },
        "id": "Cp8DmFwBTvZm",
        "outputId": "00e4cfdd-6fdf-4b49-8cf5-336ed6ab0166"
      },
      "execution_count": 10,
      "outputs": [
        {
          "output_type": "stream",
          "name": "stdout",
          "text": [
            "Loading ViT-B-32 pre-trained weights.\n",
            "/usr/local/lib/python3.11/dist-packages/open_clip/factory.py:380: UserWarning: These pretrained weights were trained with QuickGELU activation but the model config does not have that enabled. Consider using a model config with a \"-quickgelu\" suffix or enable with a flag.\n",
            "  warnings.warn(\n",
            "Loading classification head from /content/AML-proj-24-25/heads/head_DTDVal.pt\n",
            "/content/AML-proj-24-25/utils.py:22: FutureWarning: You are using `torch.load` with `weights_only=False` (the current default value), which uses the default pickle module implicitly. It is possible to construct malicious pickle data which will execute arbitrary code during unpickling (See https://github.com/pytorch/pytorch/blob/main/SECURITY.md#untrusted-models for more details). In a future release, the default value for `weights_only` will be flipped to `True`. This limits the functions that could be executed during unpickling. Arbitrary objects will no longer be allowed to be loaded via this mode unless they are explicitly allowlisted by the user via `torch.serialization.add_safe_globals`. We recommend you start setting `weights_only=True` for any use case where you don't have full control of the loaded file. Please open an issue on GitHub for any issues related to this experimental feature.\n",
            "  model = torch.load(save_path, map_location=\"cpu\")\n",
            "Saving image encoder to /content/AML-proj-24-25/encoders/DTD_zeroshot.pt\n",
            "/content/AML-proj-24-25/task_vectors.py:133: FutureWarning: You are using `torch.load` with `weights_only=False` (the current default value), which uses the default pickle module implicitly. It is possible to construct malicious pickle data which will execute arbitrary code during unpickling (See https://github.com/pytorch/pytorch/blob/main/SECURITY.md#untrusted-models for more details). In a future release, the default value for `weights_only` will be flipped to `True`. This limits the functions that could be executed during unpickling. Arbitrary objects will no longer be allowed to be loaded via this mode unless they are explicitly allowlisted by the user via `torch.serialization.add_safe_globals`. We recommend you start setting `weights_only=True` for any use case where you don't have full control of the loaded file. Please open an issue on GitHub for any issues related to this experimental feature.\n",
            "  return torch.load(checkpoint, map_location=\"cpu\")\n",
            "Loading classification head from /content/AML-proj-24-25/heads/head_DTDVal.pt\n",
            "100% 2000/2000 [05:13<00:00,  6.38it/s]\n",
            "\n",
            "Dataset: DTD\n",
            "Training Accuracy: 99.9803\n",
            "Validation Accuracy: 76.7730\n",
            "Test Accuracy: 96.5957\n",
            "Loading ViT-B-32 pre-trained weights.\n",
            "Loading ViT-B-32 pre-trained weights.\n",
            "100% 10/10 [00:00<00:00, 62.53it/s]\n",
            "Saving classification head to /content/AML-proj-24-25/heads/head_EuroSATVal.pt\n",
            "Saving image encoder to /content/AML-proj-24-25/encoders/EuroSAT_zeroshot.pt\n",
            "Loading classification head from /content/AML-proj-24-25/heads/head_EuroSATVal.pt\n",
            "100% 2000/2000 [05:13<00:00,  6.39it/s]\n",
            "\n",
            "Dataset: EuroSAT\n",
            "Training Accuracy: 99.8704\n",
            "Validation Accuracy: 98.7778\n",
            "Test Accuracy: 98.4444\n"
          ]
        }
      ]
    },
    {
      "cell_type": "markdown",
      "source": [
        "# Evaluate Task Addition"
      ],
      "metadata": {
        "id": "NTi_5DcaoNhs"
      }
    },
    {
      "cell_type": "code",
      "source": [
        "! python eval_task_addition.py \\\n",
        "--data-location=/content/AML-proj-24-25/data/ \\\n",
        "--save=/content/AML-proj-24-25/heads/"
      ],
      "metadata": {
        "id": "2P3NSdENoQkl",
        "colab": {
          "base_uri": "https://localhost:8080/"
        },
        "outputId": "fa6c62f6-0749-4bbb-8095-5263c68ff945"
      },
      "execution_count": 15,
      "outputs": [
        {
          "output_type": "stream",
          "name": "stdout",
          "text": [
            "Searching for best alpha value\n",
            "/content/AML-proj-24-25/task_vectors.py:133: FutureWarning: You are using `torch.load` with `weights_only=False` (the current default value), which uses the default pickle module implicitly. It is possible to construct malicious pickle data which will execute arbitrary code during unpickling (See https://github.com/pytorch/pytorch/blob/main/SECURITY.md#untrusted-models for more details). In a future release, the default value for `weights_only` will be flipped to `True`. This limits the functions that could be executed during unpickling. Arbitrary objects will no longer be allowed to be loaded via this mode unless they are explicitly allowlisted by the user via `torch.serialization.add_safe_globals`. We recommend you start setting `weights_only=True` for any use case where you don't have full control of the loaded file. Please open an issue on GitHub for any issues related to this experimental feature.\n",
            "  return torch.load(checkpoint, map_location=\"cpu\")\n",
            "Loading classification head from /content/AML-proj-24-25/heads/head_DTDVal.pt\n",
            "/content/AML-proj-24-25/utils.py:22: FutureWarning: You are using `torch.load` with `weights_only=False` (the current default value), which uses the default pickle module implicitly. It is possible to construct malicious pickle data which will execute arbitrary code during unpickling (See https://github.com/pytorch/pytorch/blob/main/SECURITY.md#untrusted-models for more details). In a future release, the default value for `weights_only` will be flipped to `True`. This limits the functions that could be executed during unpickling. Arbitrary objects will no longer be allowed to be loaded via this mode unless they are explicitly allowlisted by the user via `torch.serialization.add_safe_globals`. We recommend you start setting `weights_only=True` for any use case where you don't have full control of the loaded file. Please open an issue on GitHub for any issues related to this experimental feature.\n",
            "  model = torch.load(save_path, map_location=\"cpu\")\n",
            "Loading classification head from /content/AML-proj-24-25/heads/head_EuroSATVal.pt\n",
            "Loading classification head from /content/AML-proj-24-25/heads/head_GTSRBVal.pt\n",
            "Loading classification head from /content/AML-proj-24-25/heads/head_MNISTVal.pt\n",
            "Loading classification head from /content/AML-proj-24-25/heads/head_RESISC45Val.pt\n",
            "Loading classification head from /content/AML-proj-24-25/heads/head_SVHNVal.pt\n",
            "Using downloaded and verified file: /content/AML-proj-24-25/data/svhn/train_32x32.mat\n",
            "Using downloaded and verified file: /content/AML-proj-24-25/data/svhn/test_32x32.mat\n",
            "{'alpha': 0.30000000000000004, 'avg_norm_acc': 69.52649388102911, 'avg_abs_accuracy': 66.7497093206366}\n"
          ]
        }
      ]
    }
  ]
}